{
 "cells": [
  {
   "cell_type": "code",
   "execution_count": 47,
   "id": "7a6a5237",
   "metadata": {},
   "outputs": [],
   "source": [
    "import tensorflow as tf\n",
    "import coremltools as ct\n",
    "import keras\n",
    "from tensorflow.keras import utils as np_utils\n",
    "from keras.models import Sequential\n",
    "from keras.layers import Conv2D, MaxPooling2D \n",
    "from keras.layers import Dense, Dropout, Flatten\n",
    "# 定数の定義\n",
    "img_rows, img_cols = 28, 28 \n",
    "input_shape = (img_rows, img_cols, 1) \n",
    "num_classes = 10\n",
    "\n",
    "# モデルの構築\n",
    "model = Sequential() \n",
    "model.add(Conv2D(32, kernel_size=(3, 3), \n",
    "                 activation='relu', \n",
    "                 input_shape=input_shape))\n",
    "\n",
    "model.add(Conv2D(64, (3, 3), activation='relu')) \n",
    "model.add(MaxPooling2D(pool_size=(2, 2))) \n",
    "model.add(Dropout(0.25))\n",
    "model.add(Flatten())\n",
    "model.add(Dense(128, activation='relu')) \n",
    "model.add(Dropout(0.5)) \n",
    "model.add(Dense(num_classes, activation='softmax'))"
   ]
  },
  {
   "cell_type": "code",
   "execution_count": 33,
   "id": "42e47e6f",
   "metadata": {
    "scrolled": true
   },
   "outputs": [
    {
     "name": "stdout",
     "output_type": "stream",
     "text": [
      "Model: \"sequential_5\"\n",
      "_________________________________________________________________\n",
      "Layer (type)                 Output Shape              Param #   \n",
      "=================================================================\n",
      "conv2d_10 (Conv2D)           (None, 26, 26, 32)        320       \n",
      "_________________________________________________________________\n",
      "conv2d_11 (Conv2D)           (None, 24, 24, 64)        18496     \n",
      "_________________________________________________________________\n",
      "max_pooling2d_5 (MaxPooling2 (None, 12, 12, 64)        0         \n",
      "_________________________________________________________________\n",
      "dropout_10 (Dropout)         (None, 12, 12, 64)        0         \n",
      "_________________________________________________________________\n",
      "flatten_5 (Flatten)          (None, 9216)              0         \n",
      "_________________________________________________________________\n",
      "dense_10 (Dense)             (None, 128)               1179776   \n",
      "_________________________________________________________________\n",
      "dropout_11 (Dropout)         (None, 128)               0         \n",
      "_________________________________________________________________\n",
      "dense_11 (Dense)             (None, 10)                1290      \n",
      "=================================================================\n",
      "Total params: 1,199,882\n",
      "Trainable params: 1,199,882\n",
      "Non-trainable params: 0\n",
      "_________________________________________________________________\n"
     ]
    }
   ],
   "source": [
    "model.summary()"
   ]
  },
  {
   "cell_type": "code",
   "execution_count": 34,
   "id": "545db23f",
   "metadata": {},
   "outputs": [],
   "source": [
    " model.compile(loss=keras.losses.categorical_crossentropy,\n",
    "               optimizer=keras.optimizers.gradient_descent_v2.SGD(),\n",
    "               metrics=['accuracy'])"
   ]
  },
  {
   "cell_type": "code",
   "execution_count": 36,
   "id": "d490ddaa",
   "metadata": {
    "scrolled": true
   },
   "outputs": [],
   "source": [
    "# MNISTデータをロード\n",
    "(x_train, y_train), (x_test, y_test) = keras.datasets.mnist.load_data()"
   ]
  },
  {
   "cell_type": "code",
   "execution_count": 37,
   "id": "bbe22039",
   "metadata": {},
   "outputs": [],
   "source": [
    "x_train = x_train.reshape(x_train.shape[0], img_rows, img_cols, 1) \n",
    "x_train = x_train.astype('float32')\n",
    "x_train /= 255\n",
    "x_test = x_test.reshape(x_test.shape[0], img_rows, img_cols, 1) \n",
    "x_test = x_test.astype('float32')\n",
    "x_test /= 255"
   ]
  },
  {
   "cell_type": "code",
   "execution_count": 38,
   "id": "455bcde8",
   "metadata": {
    "scrolled": true
   },
   "outputs": [],
   "source": [
    "y_train = np_utils.to_categorical(y_train, num_classes) \n",
    "y_test = np_utils.to_categorical(y_test, num_classes)"
   ]
  },
  {
   "cell_type": "code",
   "execution_count": 39,
   "id": "71c7a034",
   "metadata": {},
   "outputs": [
    {
     "name": "stdout",
     "output_type": "stream",
     "text": [
      "x_train.shape: (60000, 28, 28, 1)\n",
      "x_test.shape: (10000, 28, 28, 1)\n",
      "y_train.shape: (60000, 10)\n",
      "y_test.shape: (10000, 10)\n"
     ]
    }
   ],
   "source": [
    "print('x_train.shape:', x_train.shape) \n",
    "print('x_test.shape:', x_test.shape) \n",
    "print('y_train.shape:', y_train.shape) \n",
    "print('y_test.shape:', y_test.shape)"
   ]
  },
  {
   "cell_type": "code",
   "execution_count": 40,
   "id": "10bf0aee",
   "metadata": {},
   "outputs": [
    {
     "name": "stdout",
     "output_type": "stream",
     "text": [
      "Epoch 1/12\n",
      "469/469 [==============================] - 46s 96ms/step - loss: 1.0124 - accuracy: 0.6816\n",
      "Epoch 2/12\n",
      "469/469 [==============================] - 45s 95ms/step - loss: 0.4435 - accuracy: 0.8642\n",
      "Epoch 3/12\n",
      "469/469 [==============================] - 46s 98ms/step - loss: 0.3648 - accuracy: 0.8900\n",
      "Epoch 4/12\n",
      "469/469 [==============================] - 45s 97ms/step - loss: 0.3248 - accuracy: 0.9039\n",
      "Epoch 5/12\n",
      "469/469 [==============================] - 45s 95ms/step - loss: 0.2962 - accuracy: 0.9111\n",
      "Epoch 6/12\n",
      "469/469 [==============================] - 45s 95ms/step - loss: 0.2760 - accuracy: 0.9170\n",
      "Epoch 7/12\n",
      "469/469 [==============================] - 45s 96ms/step - loss: 0.2612 - accuracy: 0.9220\n",
      "Epoch 8/12\n",
      "469/469 [==============================] - 44s 93ms/step - loss: 0.2517 - accuracy: 0.9234\n",
      "Epoch 9/12\n",
      "469/469 [==============================] - 44s 94ms/step - loss: 0.2352 - accuracy: 0.9296\n",
      "Epoch 10/12\n",
      "469/469 [==============================] - 44s 95ms/step - loss: 0.2240 - accuracy: 0.9320\n",
      "Epoch 11/12\n",
      "469/469 [==============================] - 46s 98ms/step - loss: 0.2195 - accuracy: 0.9343\n",
      "Epoch 12/12\n",
      "469/469 [==============================] - 45s 96ms/step - loss: 0.2061 - accuracy: 0.9385\n"
     ]
    },
    {
     "data": {
      "text/plain": [
       "<keras.callbacks.History at 0x7f8b6c34c510>"
      ]
     },
     "execution_count": 40,
     "metadata": {},
     "output_type": "execute_result"
    }
   ],
   "source": [
    "model.fit(x_train, \n",
    "          y_train, \n",
    "          batch_size=128,\n",
    "          epochs=12,\n",
    "          verbose=1)"
   ]
  },
  {
   "cell_type": "code",
   "execution_count": 41,
   "id": "3d02f01e",
   "metadata": {},
   "outputs": [],
   "source": [
    "score = model.evaluate(x_test, y_test, verbose=0)"
   ]
  },
  {
   "cell_type": "code",
   "execution_count": 42,
   "id": "cedf4e64",
   "metadata": {},
   "outputs": [
    {
     "name": "stdout",
     "output_type": "stream",
     "text": [
      "Test loss: 0.10686808079481125\n",
      "Test accuracy: 0.9671000242233276\n"
     ]
    }
   ],
   "source": [
    "print('Test loss:', score[0])\n",
    "print('Test accuracy:', score[1])"
   ]
  },
  {
   "cell_type": "code",
   "execution_count": 43,
   "id": "061726bd",
   "metadata": {},
   "outputs": [],
   "source": [
    "model.save('./KerasMnist.h5')"
   ]
  },
  {
   "cell_type": "code",
   "execution_count": 44,
   "id": "fa0d7d44",
   "metadata": {},
   "outputs": [],
   "source": [
    "from keras.models import load_model\n",
    "keras_model = load_model('./KerasMnist.h5')"
   ]
  },
  {
   "cell_type": "code",
   "execution_count": 60,
   "id": "80c5d4ae",
   "metadata": {
    "scrolled": true
   },
   "outputs": [
    {
     "name": "stderr",
     "output_type": "stream",
     "text": [
      "2022-07-02 10:42:02.605659: I tensorflow/core/grappler/devices.cc:75] Number of eligible GPUs (core count >= 8, compute capability >= 0.0): 0 (Note: TensorFlow was not compiled with CUDA or ROCm support)\n",
      "2022-07-02 10:42:02.605742: I tensorflow/core/grappler/clusters/single_machine.cc:357] Starting new session\n",
      "2022-07-02 10:42:02.613143: I tensorflow/core/grappler/optimizers/meta_optimizer.cc:1137] Optimization results for grappler item: graph_to_optimize\n",
      "  function_optimizer: function_optimizer did nothing. time = 0.004ms.\n",
      "  function_optimizer: function_optimizer did nothing. time = 0.001ms.\n",
      "\n",
      "2022-07-02 10:42:02.758491: I tensorflow/core/grappler/devices.cc:75] Number of eligible GPUs (core count >= 8, compute capability >= 0.0): 0 (Note: TensorFlow was not compiled with CUDA or ROCm support)\n",
      "2022-07-02 10:42:02.758596: I tensorflow/core/grappler/clusters/single_machine.cc:357] Starting new session\n",
      "2022-07-02 10:42:02.838546: I tensorflow/core/grappler/optimizers/meta_optimizer.cc:1137] Optimization results for grappler item: graph_to_optimize\n",
      "  constant_folding: Graph size after: 28 nodes (-8), 35 edges (-8), time = 34.505ms.\n",
      "  dependency_optimizer: Graph size after: 25 nodes (-3), 24 edges (-11), time = 2.708ms.\n",
      "  debug_stripper: debug_stripper did nothing. time = 0.579ms.\n",
      "  constant_folding: Graph size after: 25 nodes (0), 24 edges (0), time = 6.243ms.\n",
      "  dependency_optimizer: Graph size after: 25 nodes (0), 24 edges (0), time = 1.461ms.\n",
      "  debug_stripper: debug_stripper did nothing. time = 0.444ms.\n",
      "\n",
      "Running TensorFlow Graph Passes: 100%|██████████████████████| 6/6 [00:01<00:00,  3.22 passes/s]\n",
      "Converting Frontend ==> MIL Ops: 100%|██████████████████████| 25/25 [00:00<00:00, 325.72 ops/s]\n",
      "Running MIL Common passes: 100%|█████████████████████████| 34/34 [00:00<00:00, 722.16 passes/s]\n",
      "Running MIL Clean up passes: 100%|█████████████████████████| 9/9 [00:00<00:00, 284.35 passes/s]\n",
      "Translating MIL ==> NeuralNetwork Ops: 100%|█████████████████| 39/39 [00:01<00:00, 19.68 ops/s]\n"
     ]
    }
   ],
   "source": [
    "# mlmodel = ct.convert(keras_model,\n",
    "#                     inputs=[ct.TensorType(name=\"image\")],\n",
    "#                     outputs=[ct.TensorType(name=\"digitProbabilities\")])\n",
    "class_labels = ['0', '1', '2', '3', '4', '5', '6', '7', '8', '9']\n",
    "mlmodel = ct.convert(keras_model,\n",
    "                     source='tensorflow',\n",
    "#                      inputs=[ct.TensorType(name='image')],\n",
    "#                      outputs=[ct.TensorType(name='digitProbabilities')],\n",
    "                     classifier_config=ct.ClassifierConfig(class_labels,\n",
    "                                                         predicted_feature_name='digit'))"
   ]
  },
  {
   "cell_type": "code",
   "execution_count": 61,
   "id": "8e86b837",
   "metadata": {},
   "outputs": [],
   "source": [
    "mlmodel.save('./MNISTDigitClassifier.mlmodel')"
   ]
  },
  {
   "cell_type": "code",
   "execution_count": null,
   "id": "1b37aab8",
   "metadata": {},
   "outputs": [],
   "source": []
  },
  {
   "cell_type": "code",
   "execution_count": 63,
   "id": "64d4195e",
   "metadata": {},
   "outputs": [
    {
     "name": "stdout",
     "output_type": "stream",
     "text": [
      "[Id: 0] Name: conv2d_10_input\n",
      "          Type: multiArrayType {\n",
      "  shape: 1\n",
      "  shape: 28\n",
      "  shape: 28\n",
      "  shape: 1\n",
      "  dataType: FLOAT32\n",
      "  shapeRange {\n",
      "    sizeRanges {\n",
      "      lowerBound: 1\n",
      "      upperBound: -1\n",
      "    }\n",
      "    sizeRanges {\n",
      "      lowerBound: 28\n",
      "      upperBound: 28\n",
      "    }\n",
      "    sizeRanges {\n",
      "      lowerBound: 28\n",
      "      upperBound: 28\n",
      "    }\n",
      "    sizeRanges {\n",
      "      lowerBound: 1\n",
      "      upperBound: 1\n",
      "    }\n",
      "  }\n",
      "}\n",
      "\n"
     ]
    }
   ],
   "source": [
    "spec = ct.utils.load_spec('./MNISTDigitClassifier.mlmodel')\n",
    "builder = ct.models.neural_network.NeuralNetworkBuilder(spec=spec)\n",
    "builder.inspect_input_features()\n",
    "\n"
   ]
  },
  {
   "cell_type": "code",
   "execution_count": 64,
   "id": "a7b1cbd7",
   "metadata": {},
   "outputs": [
    {
     "name": "stdout",
     "output_type": "stream",
     "text": [
      "[Id: 0] Name: conv2d_10_input\n",
      "          Type: imageType {\n",
      "  width: 28\n",
      "  height: 28\n",
      "  colorSpace: GRAYSCALE\n",
      "}\n",
      "\n"
     ]
    }
   ],
   "source": [
    "from coremltools.proto import FeatureTypes_pb2 as ft\n",
    "grayscale = ft.ImageFeatureType.ColorSpace.Value('GRAYSCALE') \n",
    "input_image_type = builder.spec.description.input[0].type.imageType \n",
    "input_image_type.width = 28\n",
    "input_image_type.height = 28\n",
    "input_image_type.colorSpace = grayscale\n",
    "\n",
    "builder.inspect_input_features()"
   ]
  },
  {
   "cell_type": "code",
   "execution_count": 66,
   "id": "c8455c93",
   "metadata": {},
   "outputs": [],
   "source": [
    "mlmodel_modified = ct.models.MLModel(spec) \n",
    "mlmodel_modified.save('./ModifiedMNISTDigitClassifier.mlmodel')"
   ]
  }
 ],
 "metadata": {
  "kernelspec": {
   "display_name": "Python 3 (ipykernel)",
   "language": "python",
   "name": "python3"
  },
  "language_info": {
   "codemirror_mode": {
    "name": "ipython",
    "version": 3
   },
   "file_extension": ".py",
   "mimetype": "text/x-python",
   "name": "python",
   "nbconvert_exporter": "python",
   "pygments_lexer": "ipython3",
   "version": "3.7.13"
  }
 },
 "nbformat": 4,
 "nbformat_minor": 5
}
